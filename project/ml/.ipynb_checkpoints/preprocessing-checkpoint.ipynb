{
 "cells": [
  {
   "cell_type": "code",
   "execution_count": 1,
   "metadata": {
    "collapsed": true,
    "deletable": true,
    "editable": true
   },
   "outputs": [],
   "source": [
    "from xml.dom import minidom\n",
    "\n",
    "# parse an xml file by name\n",
    "mydoc = minidom.parse('/home/neil/Neil_Work/MS_SJSU/295A/dataset/useful_dataset/data/Posts.xml')"
   ]
  },
  {
   "cell_type": "code",
   "execution_count": 2,
   "metadata": {
    "collapsed": false,
    "deletable": true,
    "editable": true
   },
   "outputs": [],
   "source": [
    "rows = mydoc.getElementsByTagName('row')"
   ]
  },
  {
   "cell_type": "code",
   "execution_count": 3,
   "metadata": {
    "collapsed": false,
    "deletable": true,
    "editable": true
   },
   "outputs": [
    {
     "name": "stdout",
     "output_type": "stream",
     "text": [
      "73389\n"
     ]
    }
   ],
   "source": [
    "qa = []\n",
    "i = 0\n",
    "for row in rows:\n",
    "    if row.hasAttribute('AcceptedAnswerId') is True or row.hasAttribute('ParentId') is True:\n",
    "        qa.insert(i,row)\n",
    "        i = i + 1\n",
    "\n",
    "print(i)"
   ]
  },
  {
   "cell_type": "code",
   "execution_count": 4,
   "metadata": {
    "collapsed": false,
    "deletable": true,
    "editable": true
   },
   "outputs": [],
   "source": [
    "qa2 = {}\n",
    "k=0\n",
    "for a in qa:\n",
    "    temp = {} # 0: id, 1: acceptedanswerid, 2:parentid, 3: score, 4: body, 5: title, 6: tags\n",
    "    j = 0\n",
    "    names = ['Id','AcceptedAnswerId','ParentId','Score','Body','Title','Tags']\n",
    "    for eachName in names:\n",
    "        temp[eachName]=a.attributes[names[j]].value if a.hasAttribute(names[j]) is True else ''\n",
    "        j = j + 1\n",
    "    \n",
    "    qa2[temp['Id']]=temp\n",
    "    k = k + 1"
   ]
  },
  {
   "cell_type": "code",
   "execution_count": 5,
   "metadata": {
    "collapsed": true,
    "deletable": true,
    "editable": true
   },
   "outputs": [
    {
     "data": {
      "text/plain": [
       "{'AcceptedAnswerId': '13',\n",
       " 'Body': '<p>This is a common question by those who have just rooted their phones.  What apps, ROMs, benefits, etc. do I get from rooting?  What should I be doing now?</p>\\n',\n",
       " 'Id': '1',\n",
       " 'ParentId': '',\n",
       " 'Score': '286',\n",
       " 'Tags': '<rooting><root-access>',\n",
       " 'Title': \"I've rooted my phone.  Now what?  What do I gain from rooting?\"}"
      ]
     },
     "execution_count": 5,
     "metadata": {},
     "output_type": "execute_result"
    }
   ],
   "source": [
    "qa2['1']"
   ]
  },
  {
   "cell_type": "code",
   "execution_count": 6,
   "metadata": {
    "collapsed": false,
    "deletable": true,
    "editable": true
   },
   "outputs": [],
   "source": [
    "for key,value in qa2.items():\n",
    "    if value['AcceptedAnswerId'] is not '':\n",
    "        itsAnswer = value['AcceptedAnswerId']\n",
    "        value['AnswerData'] = qa2[itsAnswer]['Body']"
   ]
  },
  {
   "cell_type": "code",
   "execution_count": 7,
   "metadata": {
    "collapsed": false,
    "deletable": true,
    "editable": true
   },
   "outputs": [
    {
     "data": {
      "text/plain": [
       "73389"
      ]
     },
     "execution_count": 7,
     "metadata": {},
     "output_type": "execute_result"
    }
   ],
   "source": [
    "len(qa2)"
   ]
  },
  {
   "cell_type": "code",
   "execution_count": 8,
   "metadata": {
    "collapsed": false,
    "deletable": true,
    "editable": true
   },
   "outputs": [],
   "source": [
    "import copy\n",
    "quesWithAns = copy.deepcopy(qa2)"
   ]
  },
  {
   "cell_type": "code",
   "execution_count": 9,
   "metadata": {
    "collapsed": false,
    "deletable": true,
    "editable": true
   },
   "outputs": [],
   "source": [
    "for key in list(quesWithAns.keys()):\n",
    "    if quesWithAns[key]['AcceptedAnswerId'] is '':\n",
    "        del quesWithAns[key]"
   ]
  },
  {
   "cell_type": "code",
   "execution_count": 10,
   "metadata": {
    "collapsed": false,
    "deletable": true,
    "editable": true
   },
   "outputs": [
    {
     "data": {
      "text/plain": [
       "73389"
      ]
     },
     "execution_count": 10,
     "metadata": {},
     "output_type": "execute_result"
    }
   ],
   "source": [
    "len(qa2)"
   ]
  },
  {
   "cell_type": "code",
   "execution_count": 11,
   "metadata": {
    "collapsed": false,
    "deletable": true,
    "editable": true
   },
   "outputs": [
    {
     "data": {
      "text/plain": [
       "14029"
      ]
     },
     "execution_count": 11,
     "metadata": {},
     "output_type": "execute_result"
    }
   ],
   "source": [
    "len(quesWithAns)"
   ]
  },
  {
   "cell_type": "code",
   "execution_count": 12,
   "metadata": {
    "collapsed": false,
    "deletable": true,
    "editable": true
   },
   "outputs": [],
   "source": [
    "import re\n",
    "for key,value in quesWithAns.items():\n",
    "    value['Body'] = re.sub(r\"[^a-zA-Z0-9]+\", ' ', value['Body']).lower()\n",
    "    value['AnswerData'] = re.sub(r\"[^a-zA-Z0-9]+\", ' ', value['AnswerData']).lower()\n",
    "    value['Title'] = re.sub(r\"[^a-zA-Z0-9]+\", ' ', value['Title']).lower()"
   ]
  },
  {
   "cell_type": "code",
   "execution_count": 13,
   "metadata": {
    "collapsed": false,
    "deletable": true,
    "editable": true
   },
   "outputs": [
    {
     "data": {
      "text/plain": [
       "14029"
      ]
     },
     "execution_count": 13,
     "metadata": {},
     "output_type": "execute_result"
    }
   ],
   "source": [
    "len(quesWithAns)"
   ]
  },
  {
   "cell_type": "code",
   "execution_count": 14,
   "metadata": {
    "collapsed": true,
    "deletable": true,
    "editable": true
   },
   "outputs": [
    {
     "data": {
      "text/plain": [
       "{'AcceptedAnswerId': '13',\n",
       " 'AnswerData': ' h1 strong things that require root strong h1 h2 root file explorers h2 p you can remount your code system code directory read write which will allow you to a href http wiki cyanogenmod org w barebones rel nofollow noreferrer remove carrier shipped applications a you don t like and so on root file explorers can allow you to view all folders on your phone such as code data code which is normally protected p ul li a href https play google com store apps details id com blogspot superthomaslab mountsystemrorw rel nofollow noreferrer mount system ro rw a li li a href https play google com store apps details id com speedsoftware rootexplorer rel nofollow noreferrer root explorer a li li a href https play google com store apps details id com estrongs android pop rel nofollow noreferrer es file explorer a li ul h2 patching apps h2 p with root access you can patch other apps to gain special access to functions or removal of self protection for some apps p ul li a href https in appstore com android rel nofollow noreferrer freedom a get iap in app purchase for free buy diamonds rubies and pro unlocks without real money note legal restrictions may apply depending on your country region li li a href https www luckypatchers com download rel nofollow noreferrer lucky patcher a patch apps so that they don t require google play services displays no more ads automatically become pro version work at certain dpi there s many you can do with lucky patcher and there s even a bunch of patches provided already li ul h2 moving amp removing apps h2 p access to system also means you can move apps or updates to system apps from data to system with caution if the partition has enough space p ul li a href https play google com store apps details id com keramidas titaniumbackup rel nofollow noreferrer titanium backup a back up all of your applications and data also allows you to uninstall or freeze system apps integrate updates into your rom to save space move apps to sd and more li li a href https play google com store apps details id com lrenault tools apps2rom amp hl en rel nofollow noreferrer apps2rom a does for free what the pro version of titanium backup does lets you move apps to the system partition li li a href http www bloatfreezer com rel nofollow noreferrer bloatfreezer a freeze or remove system apps li li a href http www link2sd info faq rel nofollow noreferrer link2sd a move system applications to a second partition in sd card liberating loads of free space in code system code partition li ul p note that moving apps to the sdcard has risks and cons and should be undertaken only if space is needed most modern devices have enough memory for many apps 16gb providing that photos videos music are stored on an external sdcard p h2 tethering h2 p some devices already have wi fi tethering out of the box like the samsung galaxy s so this isn t such a big deal on them unless the carrier charges for the feature p ul li a href http code google com p android wifi tether rel nofollow noreferrer android wi fi tether a li li s a href http www appbrain com app android tether rel nofollow noreferrer wireless tether a s li ul h2 screenshots amp screen recording h2 p root is needed for screenshots before 4 0 ice cream sandwich most pre lollipop screen recorders also require root p ul li a href http www appbrain com app com bw picme local rel nofollow noreferrer shootme a li li a href https play google com store apps details id com gmail drocap drocap2 rel nofollow noreferrer drocap2 a li ul h2 backups h2 ul li a href https play google com store apps details id com keramidas titaniumbackup rel nofollow noreferrer titanium backup a back up all of your applications and data also allows you to uninstall system apps integrate updates into your rom to save space and so on li li a href https play google com store apps details id com koushikdutta rommanager rel nofollow noreferrer clockworkmod recovery rom manager a usually requires root to install via rom manager allows you to backup the entire device including your rom as well as flash new roms and other advanced tasks li ul p there are also many apps that claim to make a full nandroid backup p h2 application network control h2 ul li p a href http www appbrain com app com bigtincan android adfree rel nofollow noreferrer adfree a removes ads by changing the hosts file so both ads in apps and in browser p li li p a href http forum xda developers com showthread php t 2190753 rel nofollow noreferrer adaway a also blocks in app adds p li li p a href https play google com store apps details id com googlecode droidwall free rel nofollow noreferrer droid wall a firewall application got an app that s using up all your data when you re not even using it block it with this p li li a href https www torproject org docs android html rel nofollow noreferrer orbot a tor app li li a href https play google com store apps details id com aac cachemate demo rel nofollow noreferrer cache mate a clear cache of all apps li li a href https play google com store apps details id org onaips vnc rel nofollow noreferrer droid vnc server a connect to your phone via vnc li li a href https play google com store apps details id com lbe security rel nofollow noreferrer lbe security master a selectively revoke permissions from app li li a href https play google com store apps details id com smart swkey rel nofollow noreferrer button savior a helps to add on screen button to compensate a failure of a physical button li li a href https play google com store apps details id ru org amip clocksync rel nofollow noreferrer clocksync a to automatically sync the device s time with few predefined atomic clocks li ul h2 xposed framework h2 p the xposed framework allows apps with advanced tweaking functionality to be installed p ul li gravitybox for android a href http repo xposed info module com ceco gm2 gravitybox rel nofollow noreferrer 4 2 a a href http repo xposed info module com ceco kitkat gravitybox rel nofollow noreferrer 4 4 a a href http repo xposed info module com ceco lollipop gravitybox rel nofollow noreferrer 5 0 5 1 a a href http repo xposed info module com ceco marshmallow gravitybox rel nofollow noreferrer 6 0 a an app that provides many system tweaks li li a href http repo xposed info module com pyler xinstaller rel nofollow noreferrer xinstaller a various tweaks for package installer li li a href http repo xposed info module com versobit kmark xhangouts rel nofollow noreferrer xhangouts a improved version of google hangouts li li s xwhatsapp s mod for the popular whatsapp messenger li li a href http repo xposed info module biz bokhorst xprivacy rel nofollow noreferrer xprivacy a finegrained app control li ul h2 cpu control h2 ul li a href https play google com store apps details id com mhuang overclocking rel nofollow noreferrer setcpu a control the processor speed of the phone can also setup profiles it allows underclocking based on conditions e g underclock to 125mhz when screen is turned off it dramatically increases battery life without affecting performance when you re actually using apps the phone or can improve performance via overclocking li li a href https play google com store apps details id org freecoder widgets overclock rel nofollow noreferrer overclock widget a similar to setcpu but less functional li ul h2 enable swap file partition h2 ul li p a href https play google com store apps details id com swapit expander de rel nofollow noreferrer roehsoft ram expander swap a use sd card for more ram p li li p s a href https play google com store apps details id com memory swapper free 120510 rel nofollow noreferrer memory swapper free a support swap file s p li ul h2 advanced and miscellaneous h2 ul li a href https play google com store apps details id com koushikdutta rommanager rel nofollow noreferrer rom manager a facilitates installing new roms with clockworkmod recovery and allows you to back up your entire device rom apps data and other advanced tasks li li a href https play google com store apps details id com siriusapplications quickboot rel nofollow noreferrer quick boot a allows you to reboot into recovery or the bootloader download mode li li s a href http www appbrain com app net geekherd softbuttonshack rel nofollow noreferrer led hack a disable led on phone s no longer available on android market li li lag fixes various tweaks and filesystem changes to speed up your phone or prevent issues with your phone pausing freezing temporarily these are particularly useful on some samsung phones that use an rfs filesystem an ext4 lagfix like a href http project voodoo org rel nofollow noreferrer voodoo a is recommended but there are also ext2 lagfixes like a href http forum xda developers com showthread php t 784691 rel nofollow noreferrer ryanza s one click lag fix a which also allows you to change advanced memory wi fi and disk scheduling options li li a href https play google com store apps details id com fifthelement trimmer rel nofollow noreferrer trim a some older kernels do not have trim li li a href https play google com store apps details id eu chainfire stickmount rel nofollow noreferrer stickmount a automatically mount usb flash drives keyboards mouse via a href http en wikipedia org wiki usb on the go rel nofollow noreferrer usb otg a cable li li a href https play google com store apps details id stericson busybox amp hl en rel nofollow noreferrer busybox a makes terminal emulators feel more like linux li li sideloading apps most carriers phones allow this option but at amp t does not li ul h2 roms h2 p though root is not required for flashing new roms many apps that make it easier do require root p p a href http www cyanogenmod com rel nofollow noreferrer cyanogenmod a is a very popular rom that many people put on their phones it is also easy to install via the a href https play google com store apps details id com koushikdutta rommanager rel nofollow noreferrer rom manager a app first install the clockwork recovery strong then run a backup before you flash any roms strong p p also check out a href q 17152 where can i find stock or custom roms for my device a or a href http forum xda developers com rel nofollow noreferrer the xda forums a for other custom roms most devices have a specific android development sub forum where roms are posted p p em always do a nandroid backup before installing any rom or mod em you may also need to wipe all data and cache from your phone before installing or upgrading a rom p strong custom kernels strong br br p one popular set of kernels is those provided by a href http chevyno1 richstevenson com froyo kernels rel nofollow noreferrer chevyno1 a you can also download them via the premium version of the rom manager strong make a nandroid clockworkmod backup before using these kernels strong you ll also want to get setcpu to make the most out of these kernels p p start with the low voltage kernels at the lowest speed and work your way up to the 1 2ghz if your phone is stable up to the 1 2ghz range then try some of the ultra low voltage kernels if you start getting force closes then switch back to a low voltage kernel p p basically each phone of the same phone brand model varies by which kernel it can handle due to the manufacturing differences between processors so i may have a motorola droid that can run ultra low voltage kernels and yours may not be able to run them these phones weren t necessarily designed to run like this p ',\n",
       " 'Body': ' p this is a common question by those who have just rooted their phones what apps roms benefits etc do i get from rooting what should i be doing now p ',\n",
       " 'Id': '1',\n",
       " 'ParentId': '',\n",
       " 'Score': '286',\n",
       " 'Tags': '<rooting><root-access>',\n",
       " 'Title': 'i ve rooted my phone now what what do i gain from rooting '}"
      ]
     },
     "execution_count": 14,
     "metadata": {},
     "output_type": "execute_result"
    }
   ],
   "source": [
    "quesWithAns['1'] # remove special chars"
   ]
  },
  {
   "cell_type": "code",
   "execution_count": null,
   "metadata": {
    "collapsed": true
   },
   "outputs": [],
   "source": [
    "EN_WHITELIST = '0123456789abcdefghijklmnopqrstuvwxyz ' # space is included in whitelist\n",
    "EN_BLACKLIST = '!\"#$%&\\'()*+,-./:;<=>?@[\\\\]^_`{|}~\\''\n",
    "\n",
    "#FILENAME = 'data/chat.txt'\n",
    "\n",
    "limit = {\n",
    "        'maxq' : 20,\n",
    "        'minq' : 0,\n",
    "        'maxa' : 20,\n",
    "        'mina' : 3\n",
    "        }\n",
    "\n",
    "UNK = 'unk'\n",
    "VOCAB_SIZE = 6000\n",
    "\n",
    "import random\n",
    "import sys\n",
    "\n",
    "import nltk\n",
    "import itertools\n",
    "from collections import defaultdict\n",
    "\n",
    "import numpy as np\n",
    "\n",
    "import pickle\n"
   ]
  },
  {
   "cell_type": "code",
   "execution_count": null,
   "metadata": {
    "collapsed": true,
    "deletable": true,
    "editable": true
   },
   "outputs": [],
   "source": [
    "def filter_line(line, whitelist):\n",
    "    return ''.join([ ch for ch in line if ch in whitelist ])\n",
    "\n",
    "lines = [ filter_line(line, EN_WHITELIST) for line in lines ]\n",
    "print(lines[121:125])"
   ]
  }
 ],
 "metadata": {
  "kernelspec": {
   "display_name": "Python 3",
   "language": "python",
   "name": "python3"
  },
  "language_info": {
   "codemirror_mode": {
    "name": "ipython",
    "version": 3
   },
   "file_extension": ".py",
   "mimetype": "text/x-python",
   "name": "python",
   "nbconvert_exporter": "python",
   "pygments_lexer": "ipython3",
   "version": "3.5.2+"
  }
 },
 "nbformat": 4,
 "nbformat_minor": 2
}
